{
 "cells": [
  {
   "cell_type": "markdown",
   "metadata": {},
   "source": [
    "# Local data steward - API's documentation"
   ]
  },
  {
   "cell_type": "markdown",
   "metadata": {},
   "source": [
    "This notebook shows how a Local Data Steward can use the APIs to interact with the platform I14Y. \n",
    "\n",
    "In the  first part the APIs are presented. The APIs are divided into three categories: Catalogs, Concepts, PublicServices. For each API, it will be given a description, the Endpoint URL, the method used, parameters, possible status codes, the use case and an example of a request with a python script. \n",
    "\n",
    "In order to run the python script it's necessary to install the HTTP client library <code> \"requests\" </code>and define the token and the headers (the token must be copied manually from I14Y web interface, it can be obtained as follows: Log in to https://input.i14y-a.admin.ch, click on the user symbol and then on “Copy access token”).\n",
    "\n",
    "In the second part some use cases are presented. "
   ]
  },
  {
   "cell_type": "code",
   "execution_count": 1,
   "metadata": {},
   "outputs": [
    {
     "name": "stdout",
     "output_type": "stream",
     "text": [
      "Requirement already satisfied: requests in c:\\program files\\python39\\lib\\site-packages (2.26.0)\n",
      "Requirement already satisfied: charset-normalizer~=2.0.0 in c:\\program files\\python39\\lib\\site-packages (from requests) (2.0.4)\n",
      "Requirement already satisfied: certifi>=2017.4.17 in c:\\program files\\python39\\lib\\site-packages (from requests) (2021.5.30)\n",
      "Requirement already satisfied: urllib3<1.27,>=1.21.1 in c:\\program files\\python39\\lib\\site-packages (from requests) (1.26.6)\n",
      "Requirement already satisfied: idna<4,>=2.5 in c:\\program files\\python39\\lib\\site-packages (from requests) (3.2)\n",
      "Note: you may need to restart the kernel to use updated packages.\n"
     ]
    }
   ],
   "source": [
    "%pip install requests"
   ]
  },
  {
   "cell_type": "code",
   "execution_count": 4,
   "metadata": {},
   "outputs": [],
   "source": [
    "#Import\n",
    "\n",
    "import requests as r \n",
    "import pandas as pd"
   ]
  },
  {
   "cell_type": "code",
   "execution_count": null,
   "metadata": {},
   "outputs": [],
   "source": [
    "# The token must first be copied manually from I14Y\n",
    "token = 'Bearer eyJraWQiOmNlX2FjY2V...'\n",
    "\n",
    "\n",
    "headers = {'Content-Type': 'application/json', \n",
    "                   'Accept': 'application/+json', \n",
    "                   'Authorization':  token, \n",
    "                   'Accept-encoding': 'json'}"
   ]
  },
  {
   "cell_type": "markdown",
   "metadata": {},
   "source": [
    "-------------------------\n"
   ]
  },
  {
   "cell_type": "markdown",
   "metadata": {},
   "source": [
    "# Catalogs \n",
    "\n",
    "## 1. Retrieve catalog by catalog id in RDF format\n",
    "\n",
    "**Endpoint URL**: `/api/catalogs/{catalogId}/dcat/exports/rdf`\n",
    "\n",
    "**Method**: `GET`\n",
    "\n",
    "**Parameters**:\n",
    "- `catalogId` (required): The catalog id \n",
    "\n",
    "**Status Codes:**\n",
    "\n",
    "- 200 OK: The request was successful.\n",
    "- Otherwise an error message is displayed. \n",
    "\n",
    "**Use case**: The Local Data Steward needs to retrieve the catalog by catalog Id in RDF format.\n",
    "\n",
    "**Request Example**:"
   ]
  },
  {
   "cell_type": "code",
   "execution_count": 3,
   "metadata": {},
   "outputs": [
    {
     "name": "stderr",
     "output_type": "stream",
     "text": [
      "c:\\PROGRA~1\\python39\\lib\\site-packages\\urllib3\\connectionpool.py:1013: InsecureRequestWarning: Unverified HTTPS request is being made to host 'api-a.app.cfap02.atlantica.admin.ch'. Adding certificate verification is strongly advised. See: https://urllib3.readthedocs.io/en/1.26.x/advanced-usage.html#ssl-warnings\n",
      "  warnings.warn(\n"
     ]
    },
    {
     "name": "stdout",
     "output_type": "stream",
     "text": [
      "b'<?xml version=\"1.0\" encoding=\"utf-8\"?>\\n<!DOCTYPE rdf:RDF [\\n\\t<!ENTITY rdf \\'http://www.w3.org/1999/02/22-rdf-syntax-ns#\\'>\\n\\t<!ENTITY rdfs \\'http://www.w3.org/2000/01/rdf-schema#\\'>\\n\\t<!ENTITY xsd \\'http://www.w3.org/2001/XMLSchema#\\'>\\n\\t<!ENTITY dcat \\'http://www.w3.org/ns/dcat#\\'>\\n\\t<!ENTITY vcard \\'http://www.w3.org/2006/vcard/ns#\\'>\\n\\t<!ENTITY dct \\'http://purl.org/dc/terms/\\'>\\n\\t<!ENTITY foaf \\'http://xmlns.com/foaf/0.1/\\'>\\n\\t<!ENTITY spdx \\'http://spdx.org/rdf/terms#\\'>\\n\\t<!ENTITY dcatap \\'http://data.europa.eu/r5r/\\'>\\n\\t<!ENTITY schema \\'http://schema.org/\\'>\\n]>\\n<rdf:RDF xml:base=\"https://i14y.admin.ch/resources/dcat/catalogs/19c19138-c986-446f-9796-89725b752796\" xmlns:rdfs=\"http://www.w3.org/2000/01/rdf-schema#\" xmlns:xsd=\"http://www.w3.org/2001/XMLSchema#\" xmlns:dcat=\"http://www.w3.org/ns/dcat#\" xmlns:vcard=\"http://www.w3.org/2006/vcard/ns#\" xmlns:dct=\"http://purl.org/dc/terms/\" xmlns:foaf=\"http://xmlns.com/foaf/0.1/\" xmlns:spdx=\"http://spdx.org/rdf/terms#\" xmlns:dcatap=\"http://data.europa.eu/r5r/\" xmlns:schema=\"http://schema.org/\" xmlns:rdf=\"http://www.w3.org/1999/02/22-rdf-syntax-ns#\" />'\n",
      "Response: 200\n"
     ]
    }
   ],
   "source": [
    "catalog_id = \"19c19138-c986-446f-9796-89725b752796\"\n",
    "url = f\"https://api-a.app.cfap02.atlantica.admin.ch/api/catalogs/{catalog_id}/dcat/exports/rdf\"\n",
    "\n",
    "response = r.get(url, headers = headers, verify = False)\n",
    "print(response.content)\n",
    "\n",
    "print(f\"Response: {response.status_code}\")"
   ]
  },
  {
   "cell_type": "markdown",
   "metadata": {},
   "source": [
    "## 2. Retrieve DCAT catalog by catalog id in TTL format\n",
    "\n",
    "**Endpoint URL**: `/api/catalogs/{catalogId}/dcat/exports/ttl`\n",
    "\n",
    "**Method**: `GET`\n",
    "\n",
    "**Parameters**:\n",
    "- `catalogId` (required): The catalog id \n",
    "\n",
    "**Status Codes:**\n",
    "\n",
    "- 200 OK: The request was successful.\n",
    "- Otherwise an error message is displayed. \n",
    "\n",
    "**Use case**: The Local Data Steward needs to retrieve the catalog by catalog Id in TTL format.\n",
    "\n",
    "**Request Example**:"
   ]
  },
  {
   "cell_type": "code",
   "execution_count": 17,
   "metadata": {},
   "outputs": [
    {
     "name": "stdout",
     "output_type": "stream",
     "text": [
      "b'@base <https://i14y.admin.ch/resources/dcat/catalogs/19c19138-c986-446f-9796-89725b752796>.\\n\\n@prefix rdf: <http://www.w3.org/1999/02/22-rdf-syntax-ns#>.\\n@prefix rdfs: <http://www.w3.org/2000/01/rdf-schema#>.\\n@prefix xsd: <http://www.w3.org/2001/XMLSchema#>.\\n@prefix dcat: <http://www.w3.org/ns/dcat#>.\\n@prefix vcard: <http://www.w3.org/2006/vcard/ns#>.\\n@prefix dct: <http://purl.org/dc/terms/>.\\n@prefix foaf: <http://xmlns.com/foaf/0.1/>.\\n@prefix spdx: <http://spdx.org/rdf/terms#>.\\n@prefix dcatap: <http://data.europa.eu/r5r/>.\\n@prefix schema: <http://schema.org/>.\\n\\n'\n",
      "Response: 200\n"
     ]
    },
    {
     "name": "stderr",
     "output_type": "stream",
     "text": [
      "c:\\PROGRA~1\\python39\\lib\\site-packages\\urllib3\\connectionpool.py:1013: InsecureRequestWarning: Unverified HTTPS request is being made to host 'api-a.app.cfap02.atlantica.admin.ch'. Adding certificate verification is strongly advised. See: https://urllib3.readthedocs.io/en/1.26.x/advanced-usage.html#ssl-warnings\n",
      "  warnings.warn(\n"
     ]
    }
   ],
   "source": [
    "catalog_id = \"19c19138-c986-446f-9796-89725b752796\"\n",
    "url = f\"https://api-a.app.cfap02.atlantica.admin.ch/api/catalogs/{catalog_id}/dcat/exports/ttl\"\n",
    "\n",
    "response = r.get(url, headers = headers, verify = False)\n",
    "\n",
    "\n",
    "print(response.content)\n",
    "\n",
    "print(f\"Response: {response.status_code}\")"
   ]
  },
  {
   "cell_type": "markdown",
   "metadata": {},
   "source": [
    "\n",
    "\n",
    "# Concepts"
   ]
  },
  {
   "cell_type": "markdown",
   "metadata": {},
   "source": [
    "## 1. Retrieve Concept by id with the possibility to retrieve the CodeList entries\n",
    "\n",
    "**Endpoint URL**: `/api/concepts/{conceptId}`\n",
    "\n",
    "**Method**: `GET`\n",
    "\n",
    "**Parameters**:\n",
    "- `conceptId` (required): The concept id \n",
    "- `includeCodeListEntries` (optional): Boolean, valid only for concepts of the type CodeList\n",
    "\n",
    "**Status Codes:**\n",
    "\n",
    "- 200 OK: The request was successful.\n",
    "- Otherwise an error message is displayed. \n",
    "\n",
    "**Use case**: The Local Data Steward needs to retrieve the concept by the Concept Id. \n",
    "\n",
    "**Request Example**:"
   ]
  },
  {
   "cell_type": "code",
   "execution_count": 22,
   "metadata": {},
   "outputs": [
    {
     "name": "stderr",
     "output_type": "stream",
     "text": [
      "c:\\PROGRA~1\\python39\\lib\\site-packages\\urllib3\\connectionpool.py:1013: InsecureRequestWarning: Unverified HTTPS request is being made to host 'iop-partner-a.app.cfap02.atlantica.admin.ch'. Adding certificate verification is strongly advised. See: https://urllib3.readthedocs.io/en/1.26.x/advanced-usage.html#ssl-warnings\n",
      "  warnings.warn(\n"
     ]
    },
    {
     "name": "stdout",
     "output_type": "stream",
     "text": [
      "<Response [200]>\n",
      "b'{\"data\":{\"codeListEntries\":[{\"annotations\":[],\"code\":\"007EFF\",\"name\":{\"de\":\"Cyanblau\"}},{\"annotations\":[],\"code\":\"20A040\",\"name\":{\"de\":\"Mittelgr\\xc3\\xbcn\"}},{\"annotations\":[],\"code\":\"293C42\",\"name\":{\"de\":\"Paynesgrau\"}},{\"annotations\":[],\"code\":\"704214\",\"name\":{\"de\":\"Sepia\"}},{\"annotations\":[],\"code\":\"D57453\",\"name\":{\"de\":\"Venezianischrot\"}},{\"annotations\":[],\"code\":\"DA6E00\",\"name\":{\"de\":\"Gelborange\"}},{\"annotations\":[],\"code\":\"DAA520\",\"name\":{\"de\":\"Ocker\"}},{\"annotations\":[],\"code\":\"DEB943\",\"name\":{\"de\":\"Indischgelb\"}},{\"annotations\":[],\"code\":\"FF0090\",\"name\":{\"de\":\"Purpurrot\"}},{\"annotations\":[],\"code\":\"FFD700\",\"name\":{\"de\":\"Goldgelb\"}}],\"codeListEntryValueMaxLength\":6,\"codeListEntryValueType\":\"String\",\"conceptType\":\"CodeList\",\"conformsTo\":[],\"description\":{\"de\":\"Hexadezimale Farbcode\"},\"id\":\"08db5130-b260-1607-88a9-8e013ffb44ea\",\"identifier\":\"0_DemoTier_Farbe\",\"keywords\":[],\"name\":{\"de\":\"Farbliche Erscheinung \"},\"publicationLevel\":\"Public\",\"publisher\":{\"identifier\":\"i14y-test-organisation\",\"name\":{\"de\":\"I14Y Test Organisation_de\",\"en\":\"I14Y Test Organisation_en\",\"fr\":\"I14Y Test Organisation_fr\",\"it\":\"I14Y Test Organisation_it\",\"rm\":\"I14Y Test Organisation_rm\"}},\"registrationStatus\":\"Recorded\",\"registrationStatusProposal\":\"Candidate\",\"responsibleDeputy\":{\"id\":\"08db4b0d-c1ae-1688-88c1-9e9c3f179557\",\"identifier\":\"cornelia.neubacherkessler@bfs.admin.ch\",\"name\":\"Neubacher Kessler Cornelia BFS\",\"firstName\":\"\",\"lastName\":\"\"},\"responsiblePerson\":{\"id\":\"08da9646-6648-c028-8069-c443ee0b59f9\",\"identifier\":\"corinne.straub@bfs.admin.ch\",\"name\":\"Straub Corinne BFS\",\"firstName\":\"\",\"lastName\":\"\"},\"themes\":[],\"validFrom\":\"2023-05-08\",\"version\":\"1.0.0\"}}'\n"
     ]
    }
   ],
   "source": [
    "url= 'https://iop-partner-a.app.cfap02.atlantica.admin.ch/api/concepts/'\n",
    "\n",
    "concept_id = '08db5130-b260-1607-88a9-8e013ffb44ea'\n",
    "\n",
    "params = {'includeCodeListEntries': 'True'}\n",
    "\n",
    "response = r.get(url + concept_id, headers = headers, params=params, verify = False)\n",
    "\n",
    "print(response)\n",
    "\n",
    "print(f\"Response: {response.status_code}\")"
   ]
  },
  {
   "cell_type": "markdown",
   "metadata": {},
   "source": [
    "## 2. Retrieve concept in JSON format by concept id. \n",
    "\n",
    "**Endpoint URL**: `/api/concepts/{conceptId}/exports/json`\n",
    "\n",
    "**Method**: `GET`\n",
    "\n",
    "**Parameters**:\n",
    "\n",
    "- `conceptId` (required): The Concept Id\n",
    "\n",
    "\n",
    "**Status Codes:**\n",
    "\n",
    "- 200 OK: the request was sucessfull\n",
    "\n",
    "- Otherwise an error message is displayed. \n",
    "\n",
    "**Use case**: The Local Data Steward needs to retrieve the concept by the Concept Id in JSON format.\n",
    "\n",
    "**Request Examples**:"
   ]
  },
  {
   "cell_type": "code",
   "execution_count": 6,
   "metadata": {},
   "outputs": [
    {
     "name": "stderr",
     "output_type": "stream",
     "text": [
      "c:\\PROGRA~1\\python39\\lib\\site-packages\\urllib3\\connectionpool.py:1013: InsecureRequestWarning: Unverified HTTPS request is being made to host 'iop-partner-a.app.cfap02.atlantica.admin.ch'. Adding certificate verification is strongly advised. See: https://urllib3.readthedocs.io/en/1.26.x/advanced-usage.html#ssl-warnings\n",
      "  warnings.warn(\n"
     ]
    },
    {
     "name": "stdout",
     "output_type": "stream",
     "text": [
      "Response: 200\n",
      "{'data': {'codeListEntries': [{'annotations': [], 'code': '007EFF', 'name': {'de': 'Cyanblau'}}, {'annotations': [], 'code': '20A040', 'name': {'de': 'Mittelgrün'}}, {'annotations': [], 'code': '293C42', 'name': {'de': 'Paynesgrau'}}, {'annotations': [], 'code': '704214', 'name': {'de': 'Sepia'}}, {'annotations': [], 'code': 'D57453', 'name': {'de': 'Venezianischrot'}}, {'annotations': [], 'code': 'DA6E00', 'name': {'de': 'Gelborange'}}, {'annotations': [], 'code': 'DAA520', 'name': {'de': 'Ocker'}}, {'annotations': [], 'code': 'DEB943', 'name': {'de': 'Indischgelb'}}, {'annotations': [], 'code': 'FF0090', 'name': {'de': 'Purpurrot'}}, {'annotations': [], 'code': 'FFD700', 'name': {'de': 'Goldgelb'}}], 'codeListEntryValueMaxLength': 6, 'codeListEntryValueType': 'String', 'conceptType': 'CodeList', 'conformsTo': [], 'description': {'de': 'Hexadezimale Farbcode'}, 'id': '08db5130-b260-1607-88a9-8e013ffb44ea', 'identifier': '0_DemoTier_Farbe', 'keywords': [], 'name': {'de': 'Farbliche Erscheinung '}, 'publicationLevel': 'Public', 'publisher': {'identifier': 'i14y-test-organisation', 'name': {'de': 'I14Y Test Organisation_de', 'en': 'I14Y Test Organisation_en', 'fr': 'I14Y Test Organisation_fr', 'it': 'I14Y Test Organisation_it', 'rm': 'I14Y Test Organisation_rm'}}, 'registrationStatus': 'Recorded', 'registrationStatusProposal': 'Candidate', 'responsibleDeputy': {'id': '08db4b0d-c1ae-1688-88c1-9e9c3f179557', 'identifier': 'cornelia.neubacherkessler@bfs.admin.ch', 'name': 'Neubacher Kessler Cornelia BFS', 'firstName': '', 'lastName': ''}, 'responsiblePerson': {'id': '08da9646-6648-c028-8069-c443ee0b59f9', 'identifier': 'corinne.straub@bfs.admin.ch', 'name': 'Straub Corinne BFS', 'firstName': '', 'lastName': ''}, 'themes': [], 'validFrom': '2023-05-08', 'version': '1.0.0'}}\n"
     ]
    }
   ],
   "source": [
    "conceptId = \"08db5130-b260-1607-88a9-8e013ffb44ea\"\n",
    "url = f\"https://iop-partner-a.app.cfap02.atlantica.admin.ch/api/concepts/{conceptId}/exports/json\"\n",
    "\n",
    "response = r.get(url, headers = headers, verify = False)\n",
    "\n",
    "print(f\"Response: {response.status_code}\")\n",
    "\n",
    "print(response.json())\n",
    "\n"
   ]
  },
  {
   "cell_type": "markdown",
   "metadata": {},
   "source": [
    "## 3. Retrieve the code list entries from a concept of the type CodeList by the concept Id\n",
    "\n",
    "**Endpoint URL**: `/api/concepts/{conceptId}/codelist-entries/exports/json`\n",
    "\n",
    "**Method**: `GET`\n",
    "\n",
    "**Parameters**:\n",
    "\n",
    "- `conceptId` (required): The Concept Id\n",
    "\n",
    "\n",
    "**Status Codes:**\n",
    "\n",
    "- 200 OK: the request was sucessfull\n",
    "\n",
    "- Otherwise an error message is displayed. \n",
    "\n",
    "**Use case**: The Local Data Steward needs to retrieve the code list entries from a concept of the type CodeList by the concept Id. \n",
    "\n",
    "**Request Examples**:"
   ]
  },
  {
   "cell_type": "code",
   "execution_count": 7,
   "metadata": {},
   "outputs": [
    {
     "name": "stderr",
     "output_type": "stream",
     "text": [
      "c:\\PROGRA~1\\python39\\lib\\site-packages\\urllib3\\connectionpool.py:1013: InsecureRequestWarning: Unverified HTTPS request is being made to host 'iop-partner-a.app.cfap02.atlantica.admin.ch'. Adding certificate verification is strongly advised. See: https://urllib3.readthedocs.io/en/1.26.x/advanced-usage.html#ssl-warnings\n",
      "  warnings.warn(\n"
     ]
    },
    {
     "name": "stdout",
     "output_type": "stream",
     "text": [
      "Response: 200\n",
      "{'data': [{'annotations': [], 'code': '007EFF', 'name': {'de': 'Cyanblau'}}, {'annotations': [], 'code': '20A040', 'name': {'de': 'Mittelgrün'}}, {'annotations': [], 'code': '293C42', 'name': {'de': 'Paynesgrau'}}, {'annotations': [], 'code': '704214', 'name': {'de': 'Sepia'}}, {'annotations': [], 'code': 'D57453', 'name': {'de': 'Venezianischrot'}}, {'annotations': [], 'code': 'DA6E00', 'name': {'de': 'Gelborange'}}, {'annotations': [], 'code': 'DAA520', 'name': {'de': 'Ocker'}}, {'annotations': [], 'code': 'DEB943', 'name': {'de': 'Indischgelb'}}, {'annotations': [], 'code': 'FF0090', 'name': {'de': 'Purpurrot'}}, {'annotations': [], 'code': 'FFD700', 'name': {'de': 'Goldgelb'}}]}\n"
     ]
    }
   ],
   "source": [
    "conceptId = \"08db5130-b260-1607-88a9-8e013ffb44ea\"\n",
    "\n",
    "url = f\"https://iop-partner-a.app.cfap02.atlantica.admin.ch/api/concepts/{conceptId}/codelist-entries/exports/json\"\n",
    "\n",
    "response = r.get(url, headers = headers, verify = False)\n",
    "\n",
    "print(f\"Response: {response.status_code}\")\n",
    "\n",
    "print(response.json())\n",
    "\n"
   ]
  },
  {
   "cell_type": "markdown",
   "metadata": {},
   "source": [
    "## 4. Retrieve the code list entries from a concept of type CodeList by the concept Id in CSV format\n",
    "\n",
    "**Endpoint URL**: `/api/concepts/{conceptId}/codelist-entries/exports/json`\n",
    "\n",
    "**Method**: `GET`\n",
    "\n",
    "**Parameters**:\n",
    "\n",
    "- `conceptId` (required): The Concept Id\n",
    "\n",
    "\n",
    "**Status Codes:**\n",
    "\n",
    "- 200 OK: the request was sucessfull\n",
    "- Otherwise an error message is displayed. \n",
    "\n",
    "**Use case**: The Local Data Steward needs to retrieve the code list entries from a concept of type CodeList by the concept Id in CSV format\n",
    "\n",
    "**Request Examples**:"
   ]
  },
  {
   "cell_type": "code",
   "execution_count": 8,
   "metadata": {},
   "outputs": [
    {
     "name": "stderr",
     "output_type": "stream",
     "text": [
      "c:\\PROGRA~1\\python39\\lib\\site-packages\\urllib3\\connectionpool.py:1013: InsecureRequestWarning: Unverified HTTPS request is being made to host 'iop-partner-a.app.cfap02.atlantica.admin.ch'. Adding certificate verification is strongly advised. See: https://urllib3.readthedocs.io/en/1.26.x/advanced-usage.html#ssl-warnings\n",
      "  warnings.warn(\n"
     ]
    },
    {
     "name": "stdout",
     "output_type": "stream",
     "text": [
      "Response: 200\n",
      "b'Code,ParentCode,Name_de,Name_fr,Name_it,Name_rm,Name_en,Description_de,Description_fr,Description_it,Description_rm,Description_en\\r\\n\"007EFF\",\"\",\"Cyanblau\",\"\",\"\",\"\",\"\",\"\",\"\",\"\",\"\",\"\"\\r\\n\"20A040\",\"\",\"Mittelgr\\xc3\\xbcn\",\"\",\"\",\"\",\"\",\"\",\"\",\"\",\"\",\"\"\\r\\n\"293C42\",\"\",\"Paynesgrau\",\"\",\"\",\"\",\"\",\"\",\"\",\"\",\"\",\"\"\\r\\n\"704214\",\"\",\"Sepia\",\"\",\"\",\"\",\"\",\"\",\"\",\"\",\"\",\"\"\\r\\n\"D57453\",\"\",\"Venezianischrot\",\"\",\"\",\"\",\"\",\"\",\"\",\"\",\"\",\"\"\\r\\n\"DA6E00\",\"\",\"Gelborange\",\"\",\"\",\"\",\"\",\"\",\"\",\"\",\"\",\"\"\\r\\n\"DAA520\",\"\",\"Ocker\",\"\",\"\",\"\",\"\",\"\",\"\",\"\",\"\",\"\"\\r\\n\"DEB943\",\"\",\"Indischgelb\",\"\",\"\",\"\",\"\",\"\",\"\",\"\",\"\",\"\"\\r\\n\"FF0090\",\"\",\"Purpurrot\",\"\",\"\",\"\",\"\",\"\",\"\",\"\",\"\",\"\"\\r\\n\"FFD700\",\"\",\"Goldgelb\",\"\",\"\",\"\",\"\",\"\",\"\",\"\",\"\",\"\"\\r\\n'\n"
     ]
    }
   ],
   "source": [
    "conceptId = \"08db5130-b260-1607-88a9-8e013ffb44ea\"\n",
    "\n",
    "url = f\"https://iop-partner-a.app.cfap02.atlantica.admin.ch/api/concepts/{conceptId}/codelist-entries/exports/csv\"\n",
    "\n",
    "response = r.get(url, headers = headers, verify = False)\n",
    "\n",
    "print(f\"Response: {response.status_code}\")\n",
    "print(response.content)"
   ]
  },
  {
   "cell_type": "markdown",
   "metadata": {},
   "source": [
    "## 5. Create a new CodeList, Date, Numeric or String concept \n",
    "\n",
    "**Endpoint URL**: `/api/concepts`\n",
    "\n",
    "**Method**: `POST`\n",
    "\n",
    "**Parameters**:\n",
    "\n",
    "No parameters\n",
    "\n",
    "**Status Codes:**\n",
    "\n",
    "- 200 Created.\n",
    "\n",
    "- Otherwise an error message is displayed. \n",
    "\n",
    "**Use case**: The Local Data Steward needs to create a new codelist, Date, Numeric or String concept. \n",
    "\n",
    "**Request Examples**:"
   ]
  },
  {
   "cell_type": "code",
   "execution_count": 109,
   "metadata": {},
   "outputs": [],
   "source": [
    "file_path = 'concept_data.json'\n",
    "with open(file_path, 'r') as file:\n",
    "    json_data = file.read()"
   ]
  },
  {
   "cell_type": "code",
   "execution_count": 110,
   "metadata": {},
   "outputs": [
    {
     "name": "stderr",
     "output_type": "stream",
     "text": [
      "c:\\PROGRA~1\\python39\\lib\\site-packages\\urllib3\\connectionpool.py:1013: InsecureRequestWarning: Unverified HTTPS request is being made to host 'iop-partner-a.app.cfap02.atlantica.admin.ch'. Adding certificate verification is strongly advised. See: https://urllib3.readthedocs.io/en/1.26.x/advanced-usage.html#ssl-warnings\n",
      "  warnings.warn(\n"
     ]
    },
    {
     "name": "stdout",
     "output_type": "stream",
     "text": [
      "Status-Code: 201\n",
      "b'\"08dcd0ab-a0e3-e76c-af6d-bc7db062aa24\"'\n"
     ]
    }
   ],
   "source": [
    "url = 'https://iop-partner-a.app.cfap02.atlantica.admin.ch/api/concepts'\n",
    "\n",
    "response = r.post(url, headers=headers, data = json_data, verify = False)\n",
    "print(f'Status-Code: {response.status_code}')\n",
    "print(response.content)"
   ]
  },
  {
   "cell_type": "code",
   "execution_count": 111,
   "metadata": {
    "vscode": {
     "languageId": "json"
    }
   },
   "outputs": [],
   "source": [
    "// concept_data example (json format):\n",
    "\n",
    "  {\n",
    "    \"data\": {\n",
    "    \"codeListEntryValueMaxLength\": 14,\n",
    "    \"codeListEntryValueType\": \"String\",\n",
    "    \"conceptType\": \"CodeList\",\n",
    "    \"conformsTo\": [],\n",
    "    \"description\": {\n",
    "        \"en\": \"This is an example\",\n",
    "    },\n",
    "    \"identifier\": \"1234_ex\",\n",
    "    \"keywords\": [],\n",
    "    \"name\": {\n",
    "        \"en\": \"1234_ex\",\n",
    "\n",
    "    },\n",
    "    \"publicationLevel\": \"Internal\",\n",
    "    \"publisher\": {\n",
    "      \"identifier\": \"i14y-test-organisation\",\n",
    "      \"name\": {\n",
    "        \"de\": \"I14Y Test Organisation_de\",\n",
    "        \"en\": \"I14Y Test Organisation_en\",\n",
    "        \"fr\": \"I14Y Test Organisation_fr\",\n",
    "        \"it\": \"I14Y Test Organisation_it\",\n",
    "        \"rm\": \"I14Y Test Organisation_rm\"\n",
    "      }\n",
    "    },\n",
    "    \"responsibleDeputy\": {\n",
    "      \"identifier\": \"name@example.org\",\n",
    "      \"name\": \"\",\n",
    "      \"firstName\": \"\",\n",
    "      \"lastName\": \"\"\n",
    "    },\n",
    "    \"responsiblePerson\": {\n",
    "      \"identifier\": \"max.muster@example.org\",\n",
    "      \"name\": \"Max Muster\",\n",
    "      \"firstName\": \"\",\n",
    "      \"lastName\": \"\"\n",
    "    },\n",
    "    \"themes\": [],\n",
    "    \"validFrom\": \"2024-09-09\",\n",
    "    \"version\": \"1.0.0\"\n",
    "  }\n",
    "}\n",
    "\n"
   ]
  },
  {
   "cell_type": "markdown",
   "metadata": {},
   "source": [
    "## 6. Import concept codelist entries by concept Id in JSON format\n",
    "\n",
    "**Endpoint URL**: `/api/concepts`\n",
    "\n",
    "**Method**: `POST`\n",
    "\n",
    "**Parameters**:\n",
    "\n",
    "No parameters\n",
    "\n",
    "**Status Codes:**\n",
    "\n",
    "- 204 No Content: request was sucessfull\n",
    "- Otherwise an error message is displayed. \n",
    "\n",
    "**Use Case**: A code list can be attached to a data concept of the CodeList type. It is assumed here that a code list is available in JSON format. An example of the structure of such a code list can be found in the [I14Y manual](https://i14y-ch.github.io/handbook/de/4_publikation/2_konzepte/#ergänzen-einer-codeliste). If everything works, status code 204 is displayed below. Otherwise an error message is displayed. \n",
    "\n",
    "**Request Examples**:"
   ]
  },
  {
   "cell_type": "code",
   "execution_count": 59,
   "metadata": {},
   "outputs": [
    {
     "name": "stderr",
     "output_type": "stream",
     "text": [
      "c:\\PROGRA~1\\python39\\lib\\site-packages\\urllib3\\connectionpool.py:1013: InsecureRequestWarning: Unverified HTTPS request is being made to host 'api-a.i14y.admin.ch'. Adding certificate verification is strongly advised. See: https://urllib3.readthedocs.io/en/1.26.x/advanced-usage.html#ssl-warnings\n",
      "  warnings.warn(\n"
     ]
    },
    {
     "name": "stdout",
     "output_type": "stream",
     "text": [
      "Status-Code: 204\n"
     ]
    }
   ],
   "source": [
    "concept_id= \"08dcce82-7e40-c502-b736-44cbbb6d3577\"\n",
    "url = f'https://api-a.i14y.admin.ch/api/partner/v1/concepts/{concept_id}/codelist-entries/imports/json'\n",
    "\n",
    "file_path = 'example.json'\n",
    "with open(file_path, 'rb') as file:\n",
    "    files = {\n",
    "        'file': (file_path, file, 'text/json')\n",
    "    }\n",
    "    response = r.post(url, headers=headers, files=files, verify = False)\n",
    "\n",
    "print(f'Status-Code: {response.status_code}')\n"
   ]
  },
  {
   "cell_type": "code",
   "execution_count": null,
   "metadata": {
    "vscode": {
     "languageId": "json"
    }
   },
   "outputs": [],
   "source": [
    "// Example codelist entries in json format: \n",
    "\n",
    "{\n",
    "  \"codeListEntries\": [\n",
    "    {\n",
    "      \"annotations\": [],\n",
    "      \"code\": \"10\",\n",
    "      \"description\": {\n",
    "        \"de\": \"Die Frühgeschichte umfasst die Zeit von ca. 2,5 Millionen v. Chr. bis 500 v. Chr.\",\n",
    "        \"en\": \"Early history covers the period from around 2.5 million BC to 500 BC.\",\n",
    "        \"fr\": \"La Préhistoire couvre la période d'environ 2,5 millions av. J.-C. à 500 av. J.-C.\",\n",
    "        \"it\": \"Preistoria comprende il periodo da circa 2,5 milioni a.C. al 500 a.C.\"\n",
    "      },\n",
    "      \"name\": {\n",
    "        \"de\": \"Frühgeschichte\",\n",
    "        \"en\": \"Prehistory\",\n",
    "        \"fr\": \"Préhistoire\",\n",
    "        \"it\": \"Preistoria\"\n",
    "      }\n",
    "    },\n",
    "\n",
    "    {\n",
    "      \"annotations\": [  //note : it's possible to add annotations \n",
    "        {\n",
    "          \"identifier\": \"wikimedia_iron_age\",\n",
    "          \"text\": {\n",
    "            \"de\": \"Bilder und Grafiken auf Wikimedia Commons\",\n",
    "            \"en\": \"Images and graphics on Wikimedia Commons\",\n",
    "            \"fr\": \"Images et graphiques sur Wikimedia Commons\",\n",
    "            \"it\": \"Immagini e grafica su Wikimedia Commons\"\n",
    "          },\n",
    "          \"title\": \"Wikimedia Commons\",\n",
    "          \"type\": \"media\",\n",
    "          \"uri\": \"https://commons.wikimedia.org/wiki/Category:Iron_Age\"\n",
    "        }\n",
    "      ],\n",
    "      \"code\": \"13\",\n",
    "      \"description\": {\n",
    "        \"de\": \"Die Eisenzeit umfasst die Zeit von ca. 1200 v. Chr. bis 500 v. Chr.\",\n",
    "        \"en\": \"The Iron Age covers the period from around 1200 BC to 500 BC.\",\n",
    "        \"fr\": \"La période du fer s'étend d'environ 1200 av. J.-C. à 500 av. J.-C.\",\n",
    "        \"it\": \"L'età del ferro copre il periodo che va dal 1200 a.C. al 500 a.C. circa.\"\n",
    "      },\n",
    "      \"name\": {\n",
    "        \"de\": \"Eisenzeit\",\n",
    "        \"en\": \"Iron Age\",\n",
    "        \"fr\": \"Période du fer\",\n",
    "        \"it\": \"Età del ferro\"\n",
    "      },\n",
    "      \"parentCode\": \"10\"\n",
    "    },\n",
    "\n",
    "  ]\n",
    "}"
   ]
  },
  {
   "cell_type": "markdown",
   "metadata": {},
   "source": [
    "## 7. Import concept codelist entries by concept Id in CSV format\n",
    "\n",
    "**Endpoint URL**: `/api/concepts`\n",
    "\n",
    "**Method**: `POST`\n",
    "\n",
    "**Parameters**:\n",
    "\n",
    "No parameters\n",
    "\n",
    "**Status Codes:**\n",
    "\n",
    "- 204 No Content: request was sucessfull\n",
    "- Otherwise an error message is displayed. \n",
    "\n",
    "**Use Case**: A code list can be attached to a data concept of the CodeList type. It is assumed here that a code list is available in CSV format. An example of the structure of such a code list can be found in the [I14Y manual](https://i14y-ch.github.io/handbook/de/4_publikation/2_konzepte/#ergänzen-einer-codeliste). If everything works, status code 204 is displayed below. Otherwise an error message is displayed. \n",
    "\n",
    "**Request Examples**:"
   ]
  },
  {
   "cell_type": "code",
   "execution_count": 56,
   "metadata": {},
   "outputs": [
    {
     "name": "stderr",
     "output_type": "stream",
     "text": [
      "c:\\PROGRA~1\\python39\\lib\\site-packages\\urllib3\\connectionpool.py:1013: InsecureRequestWarning: Unverified HTTPS request is being made to host 'api-a.i14y.admin.ch'. Adding certificate verification is strongly advised. See: https://urllib3.readthedocs.io/en/1.26.x/advanced-usage.html#ssl-warnings\n",
      "  warnings.warn(\n"
     ]
    },
    {
     "name": "stdout",
     "output_type": "stream",
     "text": [
      "Status-Code: 204\n",
      "Antwort des Servers (falls vorhanden): \n"
     ]
    }
   ],
   "source": [
    "concept_id= \"08dcce6f-f7ce-cacb-b385-2b907bc45bb3\"\n",
    "url = f'https://api-a.i14y.admin.ch/api/partner/v1/concepts/{concept_id}/codelist-entries/imports/csv'\n",
    "\n",
    "file_path = 'example.csv'\n",
    "with open(file_path, 'rb') as file:\n",
    "    files = {\n",
    "        'file': (file_path, file, 'text/csv')\n",
    "    }\n",
    "    response = r.post(url, headers=headers, files=files, verify = False)\n",
    "\n",
    "print(f'Status-Code: {response.status_code}')\n",
    "print(f'Response from the server (if available): {response.text}')"
   ]
  },
  {
   "cell_type": "raw",
   "metadata": {},
   "source": [
    "//example codelist entries in CSV format\n",
    "\n",
    "Code,ParentCode,Name_de,Name_fr,Name_it,Name_rm,Name_en,Description_de,Description_fr,Description_it,Description_rm,Description_en,Annotation_media_Type,Annotation_media_Title,Annotation_media_URI,Annotation_media_Identifier,Annotation_media_Text_de,Annotation_media_Text_fr,Annotation_media_Text_it,Annotation_media_Text_rm,Annotation_media_Text_en\n",
    "\"10\",\"\",\"Frühgeschichte\",\"Préhistoire\",\"Preistoria\",\"\",\"Prehistory\",\"Die Frühgeschichte umfasst die Zeit von ca. 2,5 Millionen v. Chr. bis 500 v. Chr.\",\"\",\"La Préhistoire couvre la période d'environ 2,5 millions av. J.-C. à 500 av. J.-C.\",\"\",\"Preistoria comprende il periodo da circa 2,5 milioni a.C. al 500 a.C.\",\"\",\"\",\"\",\"\",\"\",\"\",\"\",\"\",\"\"\n",
    "\"11\",\"10\",\"Steinzeit\",\"Période de la pierre\",\"Età della pietra\",\"\",\"Temp da la peira\",\"Stone Age\",\"Die Steinzeit umfasst die Zeit von ca. 2,5 Millionen v. Chr. bis 10.000 v. Chr.\",\"\",\"La période de la pierre couvre la période d'environ 2,5 millions av. J.-C. à 10 000 av. J.-C.\",\"\",\"media\",\"Wikimedia Commons\",\"https://commons.wikimedia.org/wiki/Category:Stone_Age,wikimedia_commons\",\"wikimedia_stone_age\",\"Bilder und Grafiken auf Wikimedia Commons\",\"Images et graphiques sur Wikimedia Commons\",\"Immagini e grafica su Wikimedia Commons\",\"\",\"Images and graphics on Wikimedia Commons\"\n",
    "\"12\",\"10\",\"Bronzezeit\",\"Période du bronze\",\"Età del bronzo\",\"Temp dal bronza\",\"\",\"Bronze Age\",\"Die Bronzezeit erstreckt sich von ca. 3000 v. Chr. bis 2200 v. Chr.\",\"\",\"La période du bronze s'étend d'environ 3000 av. J.-C. à 2200 av. J.-C.\",\"\",\"media\",\"Wikimedia Commons\",\"https://commons.wikimedia.org/wiki/Category:Bronze_Age\",\"wikimedia_bronze_age\",\"Bilder und Grafiken auf Wikimedia Commons\",\"Images et graphiques sur Wikimedia Commons\",\"Immagini e grafica su Wikimedia Commons\",\"\",\"Images and graphics on Wikimedia Commons\"\n",
    "\"13\",\"10\",\"Eisenzeit\",\"Période du fer\",\"Età del ferro\",\"Temp dal ferd\",\"\",\"Iron Age\",\"Die Eisenzeit umfasst die Zeit von ca. 1200 v. Chr. bis 500 v. Chr.\",\"\",\"La période du fer s'étend d'environ 1200 av. J.-C. à 500 av. J.-C.\",\"\",\"media\",\"Wikimedia Commons\",\"https://commons.wikimedia.org/wiki/Category:Iron_Age\",\"wikimedia_iron_age\",\"Bilder und Grafiken auf Wikimedia Commons\",\"Images et graphiques sur Wikimedia Commons\",\"Immagini e grafica su Wikimedia Commons\",\"\",\"Images and graphics on Wikimedia Commons\"\n",
    "\"20\",\"\",\"Antike\",\"Antiquité\",\"Antichità\",\"\",\"Antiquity\",\"Die Antike erstreckt sich von ca. 500 v. Chr. bis 500 n. Chr.\",\"\",\"L'Antiquité s'étend d'environ 500 av. J.-C. à 500 ap. J.-C.\",\"\",\"L'Antichità va da circa 500 a.C. al 500 d.C.\",\"\",\"\",\"\",\"\",\"\",\"\",\"\",\"\",\"\"\n",
    "Dieses Beispiel enthält eine Annotation. Für jede zusätzliche Annotation fügen sie weitere Spalten an. Dabei wählen Sie"
   ]
  },
  {
   "cell_type": "markdown",
   "metadata": {},
   "source": [
    "## 8. Set the publication level proposal of the concept by id\n",
    "\n",
    "**Endpoint URL**: `/api/concepts/{conceptId}/publication-level-proposal`\n",
    "\n",
    "**Method**: `PUT`\n",
    "\n",
    "**Parameters**:\n",
    "\n",
    "- `conceptId` (required): The Concept Id\n",
    "- `proposal` (required): Internal or Public \n",
    "\n",
    "**Status Codes:**\n",
    "\n",
    "- 204 No Content: request was sucessfull\n",
    "- Otherwise an error message is displayed. \n",
    "\n",
    "**Use case**: The Local Data Steward needs to change the pubblication level proposal of the concept. \n",
    "\n",
    "**Request Examples**:"
   ]
  },
  {
   "cell_type": "code",
   "execution_count": 42,
   "metadata": {},
   "outputs": [
    {
     "name": "stderr",
     "output_type": "stream",
     "text": [
      "c:\\PROGRA~1\\python39\\lib\\site-packages\\urllib3\\connectionpool.py:1013: InsecureRequestWarning: Unverified HTTPS request is being made to host 'iop-partner-a.app.cfap02.atlantica.admin.ch'. Adding certificate verification is strongly advised. See: https://urllib3.readthedocs.io/en/1.26.x/advanced-usage.html#ssl-warnings\n",
      "  warnings.warn(\n"
     ]
    },
    {
     "name": "stdout",
     "output_type": "stream",
     "text": [
      "Concept updated successfully\n"
     ]
    }
   ],
   "source": [
    "concept_id= \"08dcce65-d472-0d19-80e5-681a09c18ca8\"\n",
    "url = f\"https://iop-partner-a.app.cfap02.atlantica.admin.ch/api/concepts/{concept_id}/publication-level-proposal\"\n",
    "params = {'proposal': 'Public'}\n",
    "response = r.put(url, headers=headers, params=params, verify = False)\n",
    "\n",
    "if response.status_code == 204:\n",
    "    print(\"Concept updated successfully\")\n",
    "else:\n",
    "    print(f\"Error: {response.status_code} - {response.text}\")"
   ]
  },
  {
   "cell_type": "markdown",
   "metadata": {},
   "source": [
    "## 9. Set the publication level of the concept with the specified id\n",
    "\n",
    "**Endpoint URL**: `/api/concepts/{conceptId}/publication-level`\n",
    "\n",
    "**Method**: `PUT`\n",
    "\n",
    "**Parameters**:\n",
    "\n",
    "- `conceptId` (required): The Concept Id\n",
    "- `level` (required): Internal or Public \n",
    "\n",
    "**Status Codes:**\n",
    "\n",
    "- 204 No Content: request was sucessfull\n",
    "- Otherwise an error message is displayed. \n",
    "\n",
    "**Use case**: The Local Data Steward needs to change the pubblication level. The pubblication level can be edited only after a pubblication level proposal has been made. \n",
    "\n",
    "**Request Examples**:\n"
   ]
  },
  {
   "cell_type": "code",
   "execution_count": 31,
   "metadata": {},
   "outputs": [
    {
     "name": "stdout",
     "output_type": "stream",
     "text": [
      "Error: 403 - {\"type\":\"https://httpstatuses/403\",\"title\":\"Forwarded\",\"status\":403,\"detail\":\"The HTTP status code of the response was not expected (403).\\n\\nStatus: 403\\nResponse: \\n{\\\"type\\\":\\\"https://httpstatuses.com/403\\\",\\\"title\\\":\\\"Forbidden\\\",\\\"status\\\":403,\\\"traceId\\\":\\\"00-a36aa70c2fb913770e2bd4663cf4ab9d-716ffbf1e5ba5971-00\\\"}\",\"traceId\":\"00-a36aa70c2fb913770e2bd4663cf4ab9d-e46b7ee305e41fe6-00\"}\n"
     ]
    },
    {
     "name": "stderr",
     "output_type": "stream",
     "text": [
      "c:\\PROGRA~1\\python39\\lib\\site-packages\\urllib3\\connectionpool.py:1013: InsecureRequestWarning: Unverified HTTPS request is being made to host 'iop-partner-a.app.cfap02.atlantica.admin.ch'. Adding certificate verification is strongly advised. See: https://urllib3.readthedocs.io/en/1.26.x/advanced-usage.html#ssl-warnings\n",
      "  warnings.warn(\n"
     ]
    }
   ],
   "source": [
    "concept_id= \"08dcd0ab-a0e3-e76c-af6d-bc7db062aa24\"\n",
    "url = f\"https://iop-partner-a.app.cfap02.atlantica.admin.ch/api/concepts/{concept_id}/publication-level\"\n",
    "params = {'level': 'Internal'}\n",
    "response = r.put(url, headers=headers, params=params, verify = False)\n",
    "\n",
    "if response.status_code == 204:\n",
    "    print(\"Concept updated successfully\")\n",
    "else:\n",
    "    print(f\"Error: {response.status_code} - {response.text}\")"
   ]
  },
  {
   "cell_type": "markdown",
   "metadata": {},
   "source": [
    "## 10. Set the registration status proposal of the concept with the specified id. \n",
    "\n",
    "**Endpoint URL**: `/api/concepts/{conceptId}/registration-status-proposal`\n",
    "\n",
    "**Method**: `PUT`\n",
    "\n",
    "**Parameters**:\n",
    "\n",
    "- `conceptId` (required): The Concept Id\n",
    "- `proposal` (optional): *Available values* : Incomplete, Candidate, Recorded, Qualified, Standard, PreferredStandard, Superseded, Retired\n",
    "\n",
    "\n",
    "**Status Codes:**\n",
    "\n",
    "- 204 No Content: request was sucessfull\n",
    "- Otherwise an error message is displayed.  \n",
    "\n",
    "**Use case**: The Local Data Steward needs to update the registration status proposal. Once the registration status is set to Recorded is not possible to set the registration status proposal to Incomplete or Candidate. \n",
    "\n",
    "**Request Examples**:\n"
   ]
  },
  {
   "cell_type": "code",
   "execution_count": 38,
   "metadata": {},
   "outputs": [
    {
     "name": "stderr",
     "output_type": "stream",
     "text": [
      "c:\\PROGRA~1\\python39\\lib\\site-packages\\urllib3\\connectionpool.py:1013: InsecureRequestWarning: Unverified HTTPS request is being made to host 'iop-partner-a.app.cfap02.atlantica.admin.ch'. Adding certificate verification is strongly advised. See: https://urllib3.readthedocs.io/en/1.26.x/advanced-usage.html#ssl-warnings\n",
      "  warnings.warn(\n"
     ]
    },
    {
     "name": "stdout",
     "output_type": "stream",
     "text": [
      "Concept updated successfully\n"
     ]
    }
   ],
   "source": [
    "concept_id= \"08dcce43-85e3-7431-b95c-2291ac448778\"\n",
    "url = f\"https://iop-partner-a.app.cfap02.atlantica.admin.ch/api/concepts/{concept_id}/registration-status-proposal\"\n",
    "params = {'proposal': 'Recorded'}\n",
    "response = r.put(url, headers=headers, params=params, verify = False)\n",
    "\n",
    "if response.status_code == 204:\n",
    "    print(\"Concept updated successfully\")\n",
    "else:\n",
    "    print(f\"Error: {response.status_code} - {response.text}\")"
   ]
  },
  {
   "cell_type": "markdown",
   "metadata": {},
   "source": [
    "## 11. Set the registration status of the concept with the specified id. \n",
    "\n",
    "**Endpoint URL**: `/api/concepts/{conceptId}/registration-status-proposal`\n",
    "\n",
    "**Method**: `PUT`\n",
    "\n",
    "**Parameters**:\n",
    "\n",
    "- `conceptId` (required): The Concept Id\n",
    "- `status` (required): *Available values* : Incomplete, Candidate, Recorded, Qualified, Standard, PreferredStandard, Superseded, Retired\n",
    "\n",
    "**Status Codes:**\n",
    "\n",
    "- 204 No Content: request was sucessfull\n",
    "- Otherwise an error message is displayed. \n",
    "\n",
    "**Use case**: The Local Data Steward needs to update the registration status. The registration status can be changed only after a registration status proposal has been made. \n",
    "\n",
    "Once the registration status is set to Recorded is not possible to set the registration status to Incomplete or Candidate. \n",
    "\n",
    "**Request Examples**:"
   ]
  },
  {
   "cell_type": "code",
   "execution_count": 39,
   "metadata": {},
   "outputs": [
    {
     "name": "stderr",
     "output_type": "stream",
     "text": [
      "c:\\PROGRA~1\\python39\\lib\\site-packages\\urllib3\\connectionpool.py:1013: InsecureRequestWarning: Unverified HTTPS request is being made to host 'iop-partner-a.app.cfap02.atlantica.admin.ch'. Adding certificate verification is strongly advised. See: https://urllib3.readthedocs.io/en/1.26.x/advanced-usage.html#ssl-warnings\n",
      "  warnings.warn(\n"
     ]
    },
    {
     "name": "stdout",
     "output_type": "stream",
     "text": [
      "Concept updated successfully\n"
     ]
    }
   ],
   "source": [
    "concept_id= \"08dcce43-85e3-7431-b95c-2291ac448778\"\n",
    "url = f\"https://iop-partner-a.app.cfap02.atlantica.admin.ch/api/concepts/{concept_id}/registration-status\"\n",
    "params = {'status': 'Recorded'}\n",
    "response = r.put(url, headers=headers, params=params, verify = False)\n",
    "\n",
    "if response.status_code == 204:\n",
    "    print(\"Concept updated successfully\")\n",
    "else:\n",
    "    print(f\"Error: {response.status_code} - {response.text}\")"
   ]
  },
  {
   "cell_type": "markdown",
   "metadata": {},
   "source": [
    "## 12. Delete all code list entries by concept id.\n",
    "\n",
    "**Endpoint URL**: `/api/concepts/{conceptId}/codelist-entries`\n",
    "\n",
    "**Method**: `DELETE`\n",
    "\n",
    "**Parameters**:\n",
    "\n",
    "- `conceptId` (required): The Concept Id\n",
    "**Status Codes:**\n",
    "\n",
    "- 204 No Content: request was sucessfull\n",
    "- Otherwise an error message is displayed. \n",
    "\n",
    "**Use case**: The Local Data Steward needs to delete a all code list entries of a concept with the current status **Incomplete** or **Candidate**. Once the concept is **Recorded** is not possible to delete the code list entries.  \n",
    "\n",
    "**Request Examples**:"
   ]
  },
  {
   "cell_type": "code",
   "execution_count": 30,
   "metadata": {},
   "outputs": [
    {
     "name": "stderr",
     "output_type": "stream",
     "text": [
      "c:\\PROGRA~1\\python39\\lib\\site-packages\\urllib3\\connectionpool.py:1013: InsecureRequestWarning: Unverified HTTPS request is being made to host 'iop-partner-a.app.cfap02.atlantica.admin.ch'. Adding certificate verification is strongly advised. See: https://urllib3.readthedocs.io/en/1.26.x/advanced-usage.html#ssl-warnings\n",
      "  warnings.warn(\n"
     ]
    },
    {
     "name": "stdout",
     "output_type": "stream",
     "text": [
      "Concept deleted successfully\n"
     ]
    }
   ],
   "source": [
    "concept_id = \"08dcce43-85e3-7431-b95c-2291ac448778\"\n",
    "url = f\"https://iop-partner-a.app.cfap02.atlantica.admin.ch/api/concepts/{concept_id}/codelist-entries\"\n",
    "\n",
    "response = r.delete(url, headers=headers, verify = False)\n",
    "\n",
    "if response.status_code == 204:\n",
    "    print(\"Code List entries deleted successfully\")\n",
    "else:\n",
    "    print(f\"Error: {response.status_code} - {response.text}\")"
   ]
  },
  {
   "cell_type": "markdown",
   "metadata": {},
   "source": [
    "\n",
    "\n",
    "# PublicServices"
   ]
  },
  {
   "cell_type": "markdown",
   "metadata": {},
   "source": [
    "## 1. Retrieve all Public Services\n",
    "\n",
    "**Endpoint URL**: `/api/publicservices/exports/json`\n",
    "\n",
    "**Method**: `GET`\n",
    "\n",
    "**Parameters**:\n",
    "\n",
    "No parameters\n",
    "\n",
    "\n",
    "**Status Codes:**\n",
    "\n",
    "- 200 OK: the request was sucessfull\n",
    "\n",
    "**Use case**: The Local Data Steward needs to retrieve all Public Services. \n",
    "\n",
    "**Request Examples**:"
   ]
  },
  {
   "cell_type": "code",
   "execution_count": 28,
   "metadata": {},
   "outputs": [
    {
     "name": "stdout",
     "output_type": "stream",
     "text": [
      "<Response [200]>\n"
     ]
    },
    {
     "name": "stderr",
     "output_type": "stream",
     "text": [
      "c:\\PROGRA~1\\python39\\lib\\site-packages\\urllib3\\connectionpool.py:1013: InsecureRequestWarning: Unverified HTTPS request is being made to host 'iop-partner-a.app.cfap02.atlantica.admin.ch'. Adding certificate verification is strongly advised. See: https://urllib3.readthedocs.io/en/1.26.x/advanced-usage.html#ssl-warnings\n",
      "  warnings.warn(\n"
     ]
    }
   ],
   "source": [
    "url = \"https://iop-partner-a.app.cfap02.atlantica.admin.ch/api/publicservices/exports/json\"\n",
    "\n",
    "response = r.get(url, headers = headers, verify = False)\n",
    "\n",
    "print(response)"
   ]
  },
  {
   "cell_type": "markdown",
   "metadata": {},
   "source": [
    "-------------------------\n",
    "# Use Cases\n",
    "\n",
    "### Use Case 1: Additions or changes in a Concept: creation of a new version\n",
    "\n",
    "**Description**:  \n",
    "A Local Data Steward needs to modify an existing. The LDS can either create a new version of the concept using the I14Y web interface (by clicking on the \"create a new version\" button), or he can create a new version using the API. In order to create a new version the LDS need to use a POST request with the updated json data (the version number needs to be updated: <code> “version”: “1.0.1” </code>). \n",
    "\n"
   ]
  },
  {
   "cell_type": "code",
   "execution_count": null,
   "metadata": {
    "vscode": {
     "languageId": "json"
    }
   },
   "outputs": [],
   "source": [
    "// concept_data example:\n",
    "\n",
    "{\n",
    "  \"data\": {\n",
    "    \"codeListEntryValueMaxLength\": 14,\n",
    "    \"codeListEntryValueType\": \"String\",\n",
    "    \"conceptType\": \"CodeList\",\n",
    "    \"conformsTo\": [],\n",
    "    \"description\": {\n",
    "        \"de\": null,\n",
    "        \"en\": \"This is an example\",\n",
    "        \"fr\": null,\n",
    "        \"it\": null,\n",
    "        \"rm\": null\n",
    "    },\n",
    "    \"identifier\": \"ex_test123\",\n",
    "    \"keywords\": [],\n",
    "    \"name\": {\n",
    "        \"de\": null,\n",
    "        \"en\": \"ex_test123\",\n",
    "        \"fr\": null,\n",
    "        \"it\": null,\n",
    "        \"rm\": null\n",
    "    },\n",
    "    \"publicationLevel\": \"Internal\",\n",
    "    \"publisher\": {\n",
    "      \"identifier\": \"i14y-test-organisation\",\n",
    "      \"name\": {\n",
    "        \"de\": \"I14Y Test Organisation_de\",\n",
    "        \"en\": \"I14Y Test Organisation_en\",\n",
    "        \"fr\": \"I14Y Test Organisation_fr\",\n",
    "        \"it\": \"I14Y Test Organisation_it\",\n",
    "        \"rm\": \"I14Y Test Organisation_rm\"\n",
    "      }\n",
    "    },\n",
    "    \"responsibleDeputy\": {\n",
    "      \"identifier\": \"martial.honsberger@bfs.admin.ch\",\n",
    "      \"name\": \"Martial Honsberger\",\n",
    "      \"firstName\": \"\",\n",
    "      \"lastName\": \"\"\n",
    "    },\n",
    "    \"responsiblePerson\": {\n",
    "      \"identifier\": \"max.muster@example.org\",\n",
    "      \"name\": \"Max Muster\",\n",
    "      \"firstName\": \"\",\n",
    "      \"lastName\": \"\"\n",
    "    },\n",
    "    \"themes\": [],\n",
    "    \"validFrom\": \"2024-09-09\",\n",
    "    \"version\": \"1.0.1\" //new version updated\n",
    "  }\n",
    "}"
   ]
  },
  {
   "cell_type": "code",
   "execution_count": 115,
   "metadata": {},
   "outputs": [
    {
     "name": "stderr",
     "output_type": "stream",
     "text": [
      "c:\\PROGRA~1\\python39\\lib\\site-packages\\urllib3\\connectionpool.py:1013: InsecureRequestWarning: Unverified HTTPS request is being made to host 'iop-partner-a.app.cfap02.atlantica.admin.ch'. Adding certificate verification is strongly advised. See: https://urllib3.readthedocs.io/en/1.26.x/advanced-usage.html#ssl-warnings\n",
      "  warnings.warn(\n"
     ]
    },
    {
     "name": "stdout",
     "output_type": "stream",
     "text": [
      "Status-Code: 201\n",
      "b'\"08dcd0ae-7350-466d-806c-1389f27251dd\"'\n"
     ]
    }
   ],
   "source": [
    "file_path = 'concept_data.json'\n",
    "with open(file_path, 'r') as file:\n",
    "    json_data = file.read()\n",
    "\n",
    "url = 'https://iop-partner-a.app.cfap02.atlantica.admin.ch/api/concepts'\n",
    "\n",
    "response = r.post(url, headers=headers, data = json_data, verify = False)\n",
    "print(f'Status-Code: {response.status_code}')\n",
    "print(response.content)"
   ]
  }
 ],
 "metadata": {
  "kernelspec": {
   "display_name": "Python 3.9.7 ('base')",
   "language": "python",
   "name": "python3"
  },
  "language_info": {
   "codemirror_mode": {
    "name": "ipython",
    "version": 3
   },
   "file_extension": ".py",
   "mimetype": "text/x-python",
   "name": "python",
   "nbconvert_exporter": "python",
   "pygments_lexer": "ipython3",
   "version": "3.9.7"
  },
  "orig_nbformat": 4,
  "vscode": {
   "interpreter": {
    "hash": "94b3a81435acc63bd930e86da5e2eb338d56cfc6e722049d2fbed8b8fefbb3de"
   }
  }
 },
 "nbformat": 4,
 "nbformat_minor": 2
}
